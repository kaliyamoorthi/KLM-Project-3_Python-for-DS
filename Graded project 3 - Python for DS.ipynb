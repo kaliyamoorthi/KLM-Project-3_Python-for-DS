{
 "cells": [
  {
   "cell_type": "markdown",
   "id": "77caacc6",
   "metadata": {},
   "source": [
    "Graded Project 3 - Python for DS"
   ]
  },
  {
   "cell_type": "markdown",
   "id": "bc8f6256",
   "metadata": {},
   "source": [
    "1. Import required libraries and read the dataset.(2) "
   ]
  },
  {
   "cell_type": "code",
   "execution_count": 65,
   "id": "2d452dd2",
   "metadata": {},
   "outputs": [],
   "source": [
    "import numpy as np \n",
    "import pandas as pd \n",
    "import matplotlib.pyplot as plt\n",
    "import seaborn as sns\n",
    "import sklearn\n",
    "from sklearn.model_selection import train_test_split\n",
    "from sklearn.metrics import classification_report,confusion_matrix,roc_curve,accuracy_score,auc,roc_auc_score  \n",
    "from sklearn.ensemble import RandomForestClassifier, BaggingClassifier, AdaBoostClassifier, GradientBoostingClassifier\n",
    "from sklearn.preprocessing import StandardScaler,MinMaxScaler  ## to Normalize\n",
    "from sklearn.discriminant_analysis import LinearDiscriminantAnalysis as LDA\n",
    "from sklearn.preprocessing import LabelEncoder\n",
    "from sklearn.decomposition import PCA\n",
    "from sklearn.cluster import KMeans\n",
    "from scipy.cluster.hierarchy import dendrogram, linkage\n",
    "from sklearn.metrics import silhouette_score\n",
    "from sklearn.cluster import AgglomerativeClustering\n",
    "\n",
    "import warnings\n",
    "warnings.filterwarnings('ignore')"
   ]
  },
  {
   "cell_type": "code",
   "execution_count": 66,
   "id": "23356532",
   "metadata": {},
   "outputs": [],
   "source": [
    "df = pd.read_csv('loan_approval_data.csv', encoding='unicode_escape')"
   ]
  },
  {
   "cell_type": "markdown",
   "id": "e9cd67d9",
   "metadata": {},
   "source": [
    "2. Check the first few samples, shape, info of the data and try to familiarize yourself with different features. (2)"
   ]
  },
  {
   "cell_type": "code",
   "execution_count": 67,
   "id": "a0727217",
   "metadata": {},
   "outputs": [
    {
     "data": {
      "text/plain": [
       "(614, 13)"
      ]
     },
     "execution_count": 67,
     "metadata": {},
     "output_type": "execute_result"
    }
   ],
   "source": [
    "df.shape"
   ]
  },
  {
   "cell_type": "code",
   "execution_count": 68,
   "id": "7e346805",
   "metadata": {},
   "outputs": [
    {
     "data": {
      "text/plain": [
       "<bound method DataFrame.info of       loan_id  gender married  dependents     education self_employed  \\\n",
       "0    lp001002    male      no         0.0      graduate            no   \n",
       "1    lp001003    male     yes         1.0      graduate            no   \n",
       "2    lp001005    male     yes         0.0      graduate           yes   \n",
       "3    lp001006    male     yes         0.0  not graduate            no   \n",
       "4    lp001008    male      no         0.0      graduate            no   \n",
       "..        ...     ...     ...         ...           ...           ...   \n",
       "609  lp002978  female      no         0.0      graduate            no   \n",
       "610  lp002979    male     yes         3.0      graduate            no   \n",
       "611  lp002983    male     yes         1.0      graduate            no   \n",
       "612  lp002984    male     yes         2.0      graduate            no   \n",
       "613  lp002990  female      no         0.0      graduate           yes   \n",
       "\n",
       "     applicantincome  coapplicantincome  loanamount  loan_amount_term  \\\n",
       "0               5849                0.0         NaN             360.0   \n",
       "1               4583             1508.0       128.0             360.0   \n",
       "2               3000                0.0        66.0             360.0   \n",
       "3               2583             2358.0       120.0             360.0   \n",
       "4               6000                0.0       141.0             360.0   \n",
       "..               ...                ...         ...               ...   \n",
       "609             2900                0.0        71.0             360.0   \n",
       "610             4106                0.0        40.0             180.0   \n",
       "611             8072              240.0       253.0             360.0   \n",
       "612             7583                0.0       187.0             360.0   \n",
       "613             4583                0.0       133.0             360.0   \n",
       "\n",
       "     credit_history property_area loan_status  \n",
       "0               1.0         urban           y  \n",
       "1               1.0         rural           n  \n",
       "2               1.0         urban           y  \n",
       "3               1.0         urban           y  \n",
       "4               1.0         urban           y  \n",
       "..              ...           ...         ...  \n",
       "609             1.0         rural           y  \n",
       "610             1.0         rural           y  \n",
       "611             1.0         urban           y  \n",
       "612             1.0         urban           y  \n",
       "613             0.0     semiurban           n  \n",
       "\n",
       "[614 rows x 13 columns]>"
      ]
     },
     "execution_count": 68,
     "metadata": {},
     "output_type": "execute_result"
    }
   ],
   "source": [
    "df.info"
   ]
  },
  {
   "cell_type": "code",
   "execution_count": 69,
   "id": "c1bb6b16",
   "metadata": {},
   "outputs": [
    {
     "data": {
      "text/html": [
       "<div>\n",
       "<style scoped>\n",
       "    .dataframe tbody tr th:only-of-type {\n",
       "        vertical-align: middle;\n",
       "    }\n",
       "\n",
       "    .dataframe tbody tr th {\n",
       "        vertical-align: top;\n",
       "    }\n",
       "\n",
       "    .dataframe thead th {\n",
       "        text-align: right;\n",
       "    }\n",
       "</style>\n",
       "<table border=\"1\" class=\"dataframe\">\n",
       "  <thead>\n",
       "    <tr style=\"text-align: right;\">\n",
       "      <th></th>\n",
       "      <th>loan_id</th>\n",
       "      <th>gender</th>\n",
       "      <th>married</th>\n",
       "      <th>dependents</th>\n",
       "      <th>education</th>\n",
       "      <th>self_employed</th>\n",
       "      <th>applicantincome</th>\n",
       "      <th>coapplicantincome</th>\n",
       "      <th>loanamount</th>\n",
       "      <th>loan_amount_term</th>\n",
       "      <th>credit_history</th>\n",
       "      <th>property_area</th>\n",
       "      <th>loan_status</th>\n",
       "    </tr>\n",
       "  </thead>\n",
       "  <tbody>\n",
       "    <tr>\n",
       "      <th>0</th>\n",
       "      <td>lp001002</td>\n",
       "      <td>male</td>\n",
       "      <td>no</td>\n",
       "      <td>0.0</td>\n",
       "      <td>graduate</td>\n",
       "      <td>no</td>\n",
       "      <td>5849</td>\n",
       "      <td>0.0</td>\n",
       "      <td>NaN</td>\n",
       "      <td>360.0</td>\n",
       "      <td>1.0</td>\n",
       "      <td>urban</td>\n",
       "      <td>y</td>\n",
       "    </tr>\n",
       "    <tr>\n",
       "      <th>1</th>\n",
       "      <td>lp001003</td>\n",
       "      <td>male</td>\n",
       "      <td>yes</td>\n",
       "      <td>1.0</td>\n",
       "      <td>graduate</td>\n",
       "      <td>no</td>\n",
       "      <td>4583</td>\n",
       "      <td>1508.0</td>\n",
       "      <td>128.0</td>\n",
       "      <td>360.0</td>\n",
       "      <td>1.0</td>\n",
       "      <td>rural</td>\n",
       "      <td>n</td>\n",
       "    </tr>\n",
       "    <tr>\n",
       "      <th>2</th>\n",
       "      <td>lp001005</td>\n",
       "      <td>male</td>\n",
       "      <td>yes</td>\n",
       "      <td>0.0</td>\n",
       "      <td>graduate</td>\n",
       "      <td>yes</td>\n",
       "      <td>3000</td>\n",
       "      <td>0.0</td>\n",
       "      <td>66.0</td>\n",
       "      <td>360.0</td>\n",
       "      <td>1.0</td>\n",
       "      <td>urban</td>\n",
       "      <td>y</td>\n",
       "    </tr>\n",
       "    <tr>\n",
       "      <th>3</th>\n",
       "      <td>lp001006</td>\n",
       "      <td>male</td>\n",
       "      <td>yes</td>\n",
       "      <td>0.0</td>\n",
       "      <td>not graduate</td>\n",
       "      <td>no</td>\n",
       "      <td>2583</td>\n",
       "      <td>2358.0</td>\n",
       "      <td>120.0</td>\n",
       "      <td>360.0</td>\n",
       "      <td>1.0</td>\n",
       "      <td>urban</td>\n",
       "      <td>y</td>\n",
       "    </tr>\n",
       "    <tr>\n",
       "      <th>4</th>\n",
       "      <td>lp001008</td>\n",
       "      <td>male</td>\n",
       "      <td>no</td>\n",
       "      <td>0.0</td>\n",
       "      <td>graduate</td>\n",
       "      <td>no</td>\n",
       "      <td>6000</td>\n",
       "      <td>0.0</td>\n",
       "      <td>141.0</td>\n",
       "      <td>360.0</td>\n",
       "      <td>1.0</td>\n",
       "      <td>urban</td>\n",
       "      <td>y</td>\n",
       "    </tr>\n",
       "  </tbody>\n",
       "</table>\n",
       "</div>"
      ],
      "text/plain": [
       "    loan_id gender married  dependents     education self_employed  \\\n",
       "0  lp001002   male      no         0.0      graduate            no   \n",
       "1  lp001003   male     yes         1.0      graduate            no   \n",
       "2  lp001005   male     yes         0.0      graduate           yes   \n",
       "3  lp001006   male     yes         0.0  not graduate            no   \n",
       "4  lp001008   male      no         0.0      graduate            no   \n",
       "\n",
       "   applicantincome  coapplicantincome  loanamount  loan_amount_term  \\\n",
       "0             5849                0.0         NaN             360.0   \n",
       "1             4583             1508.0       128.0             360.0   \n",
       "2             3000                0.0        66.0             360.0   \n",
       "3             2583             2358.0       120.0             360.0   \n",
       "4             6000                0.0       141.0             360.0   \n",
       "\n",
       "   credit_history property_area loan_status  \n",
       "0             1.0         urban           y  \n",
       "1             1.0         rural           n  \n",
       "2             1.0         urban           y  \n",
       "3             1.0         urban           y  \n",
       "4             1.0         urban           y  "
      ]
     },
     "execution_count": 69,
     "metadata": {},
     "output_type": "execute_result"
    }
   ],
   "source": [
    "df.head()"
   ]
  },
  {
   "cell_type": "markdown",
   "id": "181341d0",
   "metadata": {},
   "source": [
    "3. Check for missing values in the dataset, if present? handle them with appropriate methods and drop redundant features. (2)"
   ]
  },
  {
   "cell_type": "code",
   "execution_count": 70,
   "id": "4add893e",
   "metadata": {},
   "outputs": [
    {
     "name": "stdout",
     "output_type": "stream",
     "text": [
      "Overview of the dataset:\n",
      "\n",
      "Data Features:\n",
      "['loan_id', 'gender', 'married', 'dependents', 'education', 'self_employed', 'applicantincome', 'coapplicantincome', 'loanamount', 'loan_amount_term', 'credit_history', 'property_area', 'loan_status']\n",
      "\n",
      "Missing values %:\n",
      " loan_id              0.000000\n",
      "gender               2.117264\n",
      "married              0.488599\n",
      "dependents           2.442997\n",
      "education            0.000000\n",
      "self_employed        5.211726\n",
      "applicantincome      0.000000\n",
      "coapplicantincome    0.000000\n",
      "loanamount           3.583062\n",
      "loan_amount_term     2.280130\n",
      "credit_history       8.143322\n",
      "property_area        0.000000\n",
      "loan_status          0.000000\n",
      "dtype: float64\n",
      "\n",
      "Missing values: 149\n"
     ]
    }
   ],
   "source": [
    "#Overview of the data\n",
    "def data_overiew(df, message):\n",
    "    print(f'{message}:\\n')\n",
    "    print(\"Data Features:\")\n",
    "    print(df.columns.tolist())\n",
    "    print(\"\\nMissing values %:\\n\", df.isnull().sum()/len(df)*100)\n",
    "    print(\"\\nMissing values:\", df.isnull().sum().values.sum())\n",
    "    \n",
    "data_overiew(df, 'Overview of the dataset')"
   ]
  },
  {
   "cell_type": "code",
   "execution_count": 71,
   "id": "a797914c",
   "metadata": {},
   "outputs": [
    {
     "data": {
      "text/plain": [
       "loan_id               0\n",
       "gender               13\n",
       "married               3\n",
       "dependents           15\n",
       "education             0\n",
       "self_employed        32\n",
       "applicantincome       0\n",
       "coapplicantincome     0\n",
       "loanamount           22\n",
       "loan_amount_term     14\n",
       "credit_history       50\n",
       "property_area         0\n",
       "loan_status           0\n",
       "dtype: int64"
      ]
     },
     "execution_count": 71,
     "metadata": {},
     "output_type": "execute_result"
    }
   ],
   "source": [
    "df.isna().sum()"
   ]
  },
  {
   "cell_type": "code",
   "execution_count": 72,
   "id": "675e0bf9",
   "metadata": {},
   "outputs": [
    {
     "data": {
      "text/plain": [
       "loan_id               object\n",
       "gender                object\n",
       "married               object\n",
       "dependents           float64\n",
       "education             object\n",
       "self_employed         object\n",
       "applicantincome        int64\n",
       "coapplicantincome    float64\n",
       "loanamount           float64\n",
       "loan_amount_term     float64\n",
       "credit_history       float64\n",
       "property_area         object\n",
       "loan_status           object\n",
       "dtype: object"
      ]
     },
     "execution_count": 72,
     "metadata": {},
     "output_type": "execute_result"
    }
   ],
   "source": [
    "df.dtypes"
   ]
  },
  {
   "cell_type": "code",
   "execution_count": 73,
   "id": "d72e6289",
   "metadata": {},
   "outputs": [
    {
     "data": {
      "text/plain": [
       "loan_id              0.0\n",
       "gender               0.0\n",
       "married              0.0\n",
       "dependents           0.0\n",
       "education            0.0\n",
       "self_employed        0.0\n",
       "applicantincome      0.0\n",
       "coapplicantincome    0.0\n",
       "loanamount           0.0\n",
       "loan_amount_term     0.0\n",
       "credit_history       0.0\n",
       "property_area        0.0\n",
       "loan_status          0.0\n",
       "dtype: float64"
      ]
     },
     "execution_count": 73,
     "metadata": {},
     "output_type": "execute_result"
    }
   ],
   "source": [
    "df.dropna(axis=0, how='any', thresh=None, subset=None, inplace=True)\n",
    "df.isnull().sum()/len(df)*100"
   ]
  },
  {
   "cell_type": "code",
   "execution_count": 74,
   "id": "a3721690",
   "metadata": {},
   "outputs": [],
   "source": [
    "#df.fillna({'gender':'unknown','married':'unknown','self_employed':'unknown','credit_history':0}, inplace=True)\n",
    "#cols=['dependents','loanamount','loan_amount_term']\n",
    "#df[cols]=df[cols].fillna(df[cols].mean())"
   ]
  },
  {
   "cell_type": "code",
   "execution_count": 75,
   "id": "36d59a69",
   "metadata": {},
   "outputs": [
    {
     "data": {
      "text/html": [
       "<div>\n",
       "<style scoped>\n",
       "    .dataframe tbody tr th:only-of-type {\n",
       "        vertical-align: middle;\n",
       "    }\n",
       "\n",
       "    .dataframe tbody tr th {\n",
       "        vertical-align: top;\n",
       "    }\n",
       "\n",
       "    .dataframe thead th {\n",
       "        text-align: right;\n",
       "    }\n",
       "</style>\n",
       "<table border=\"1\" class=\"dataframe\">\n",
       "  <thead>\n",
       "    <tr style=\"text-align: right;\">\n",
       "      <th></th>\n",
       "      <th>loan_id</th>\n",
       "      <th>gender</th>\n",
       "      <th>married</th>\n",
       "      <th>dependents</th>\n",
       "      <th>education</th>\n",
       "      <th>self_employed</th>\n",
       "      <th>applicantincome</th>\n",
       "      <th>coapplicantincome</th>\n",
       "      <th>loanamount</th>\n",
       "      <th>loan_amount_term</th>\n",
       "      <th>credit_history</th>\n",
       "      <th>property_area</th>\n",
       "      <th>loan_status</th>\n",
       "    </tr>\n",
       "  </thead>\n",
       "  <tbody>\n",
       "    <tr>\n",
       "      <th>1</th>\n",
       "      <td>lp001003</td>\n",
       "      <td>male</td>\n",
       "      <td>yes</td>\n",
       "      <td>1.0</td>\n",
       "      <td>graduate</td>\n",
       "      <td>no</td>\n",
       "      <td>4583</td>\n",
       "      <td>1508.0</td>\n",
       "      <td>128.0</td>\n",
       "      <td>360.0</td>\n",
       "      <td>1.0</td>\n",
       "      <td>rural</td>\n",
       "      <td>n</td>\n",
       "    </tr>\n",
       "    <tr>\n",
       "      <th>2</th>\n",
       "      <td>lp001005</td>\n",
       "      <td>male</td>\n",
       "      <td>yes</td>\n",
       "      <td>0.0</td>\n",
       "      <td>graduate</td>\n",
       "      <td>yes</td>\n",
       "      <td>3000</td>\n",
       "      <td>0.0</td>\n",
       "      <td>66.0</td>\n",
       "      <td>360.0</td>\n",
       "      <td>1.0</td>\n",
       "      <td>urban</td>\n",
       "      <td>y</td>\n",
       "    </tr>\n",
       "    <tr>\n",
       "      <th>3</th>\n",
       "      <td>lp001006</td>\n",
       "      <td>male</td>\n",
       "      <td>yes</td>\n",
       "      <td>0.0</td>\n",
       "      <td>not graduate</td>\n",
       "      <td>no</td>\n",
       "      <td>2583</td>\n",
       "      <td>2358.0</td>\n",
       "      <td>120.0</td>\n",
       "      <td>360.0</td>\n",
       "      <td>1.0</td>\n",
       "      <td>urban</td>\n",
       "      <td>y</td>\n",
       "    </tr>\n",
       "    <tr>\n",
       "      <th>4</th>\n",
       "      <td>lp001008</td>\n",
       "      <td>male</td>\n",
       "      <td>no</td>\n",
       "      <td>0.0</td>\n",
       "      <td>graduate</td>\n",
       "      <td>no</td>\n",
       "      <td>6000</td>\n",
       "      <td>0.0</td>\n",
       "      <td>141.0</td>\n",
       "      <td>360.0</td>\n",
       "      <td>1.0</td>\n",
       "      <td>urban</td>\n",
       "      <td>y</td>\n",
       "    </tr>\n",
       "    <tr>\n",
       "      <th>5</th>\n",
       "      <td>lp001011</td>\n",
       "      <td>male</td>\n",
       "      <td>yes</td>\n",
       "      <td>2.0</td>\n",
       "      <td>graduate</td>\n",
       "      <td>yes</td>\n",
       "      <td>5417</td>\n",
       "      <td>4196.0</td>\n",
       "      <td>267.0</td>\n",
       "      <td>360.0</td>\n",
       "      <td>1.0</td>\n",
       "      <td>urban</td>\n",
       "      <td>y</td>\n",
       "    </tr>\n",
       "  </tbody>\n",
       "</table>\n",
       "</div>"
      ],
      "text/plain": [
       "    loan_id gender married  dependents     education self_employed  \\\n",
       "1  lp001003   male     yes         1.0      graduate            no   \n",
       "2  lp001005   male     yes         0.0      graduate           yes   \n",
       "3  lp001006   male     yes         0.0  not graduate            no   \n",
       "4  lp001008   male      no         0.0      graduate            no   \n",
       "5  lp001011   male     yes         2.0      graduate           yes   \n",
       "\n",
       "   applicantincome  coapplicantincome  loanamount  loan_amount_term  \\\n",
       "1             4583             1508.0       128.0             360.0   \n",
       "2             3000                0.0        66.0             360.0   \n",
       "3             2583             2358.0       120.0             360.0   \n",
       "4             6000                0.0       141.0             360.0   \n",
       "5             5417             4196.0       267.0             360.0   \n",
       "\n",
       "   credit_history property_area loan_status  \n",
       "1             1.0         rural           n  \n",
       "2             1.0         urban           y  \n",
       "3             1.0         urban           y  \n",
       "4             1.0         urban           y  \n",
       "5             1.0         urban           y  "
      ]
     },
     "execution_count": 75,
     "metadata": {},
     "output_type": "execute_result"
    }
   ],
   "source": [
    "df.head()"
   ]
  },
  {
   "cell_type": "code",
   "execution_count": 76,
   "id": "2c637743",
   "metadata": {},
   "outputs": [
    {
     "name": "stdout",
     "output_type": "stream",
     "text": [
      "Duplicate Records :  0\n"
     ]
    }
   ],
   "source": [
    "print(\"Duplicate Records : \",len(df[df.duplicated()]))"
   ]
  },
  {
   "cell_type": "code",
   "execution_count": 77,
   "id": "b32a9fc2",
   "metadata": {},
   "outputs": [],
   "source": [
    "df=df.drop(columns=['loan_id','coapplicantincome'],axis=1)"
   ]
  },
  {
   "cell_type": "code",
   "execution_count": 78,
   "id": "a27b2580",
   "metadata": {},
   "outputs": [
    {
     "data": {
      "text/plain": [
       "gender               object\n",
       "married              object\n",
       "dependents          float64\n",
       "education            object\n",
       "self_employed        object\n",
       "applicantincome       int64\n",
       "loanamount          float64\n",
       "loan_amount_term    float64\n",
       "credit_history      float64\n",
       "property_area        object\n",
       "loan_status          object\n",
       "dtype: object"
      ]
     },
     "execution_count": 78,
     "metadata": {},
     "output_type": "execute_result"
    }
   ],
   "source": [
    "df.dtypes"
   ]
  },
  {
   "cell_type": "markdown",
   "id": "aa559d02",
   "metadata": {},
   "source": [
    "4. Visualize the distribution of the target column 'loan_status' with respect to various categorical features \n",
    "and write your observations. (2)"
   ]
  },
  {
   "cell_type": "code",
   "execution_count": 79,
   "id": "09d78f63",
   "metadata": {},
   "outputs": [
    {
     "data": {
      "image/png": "[encoded data removed]",
      "text/plain": [
       "<Figure size 3000x2500 with 10 Axes>"
      ]
     },
     "metadata": {},
     "output_type": "display_data"
    }
   ],
   "source": [
    "categorical_features=['gender','married','dependents','education','self_employed','applicantincome',\n",
    "                     'loanamount','loan_amount_term','credit_history','property_area']\n",
    "i=1\n",
    "plt.figure(figsize=(30,25))\n",
    "for feature in categorical_features:\n",
    "    plt.subplot(6,3,i)\n",
    "    sns.countplot(x=feature,hue='loan_status',data=df)\n",
    "    i+=1"
   ]
  },
  {
   "cell_type": "markdown",
   "id": "dc09b4d0",
   "metadata": {},
   "source": [
    "More Loans given to Self Employed Married Graduate Males having property at Semi Urban area having less dependents with high credit history.  "
   ]
  },
  {
   "cell_type": "markdown",
   "id": "e165c22e",
   "metadata": {},
   "source": [
    "5. Encode the categorical data. (2)"
   ]
  },
  {
   "cell_type": "code",
   "execution_count": 80,
   "id": "bfab80d3",
   "metadata": {},
   "outputs": [
    {
     "name": "stdout",
     "output_type": "stream",
     "text": [
      "\n",
      " gender ['male' 'female']\n",
      "\n",
      " married ['yes' 'no']\n",
      "\n",
      " education ['graduate' 'not graduate']\n",
      "\n",
      " self_employed ['no' 'yes']\n",
      "\n",
      " property_area ['rural' 'urban' 'semiurban']\n",
      "\n",
      " loan_status ['n' 'y']\n"
     ]
    }
   ],
   "source": [
    "#unique values\n",
    "cols = ['gender','married','education','self_employed','property_area','loan_status']\n",
    "\n",
    "for col in cols:\n",
    "    print(\"\\n\",col,df[col].unique())"
   ]
  },
  {
   "cell_type": "code",
   "execution_count": 81,
   "id": "6232bdf4",
   "metadata": {},
   "outputs": [
    {
     "data": {
      "text/html": [
       "<div>\n",
       "<style scoped>\n",
       "    .dataframe tbody tr th:only-of-type {\n",
       "        vertical-align: middle;\n",
       "    }\n",
       "\n",
       "    .dataframe tbody tr th {\n",
       "        vertical-align: top;\n",
       "    }\n",
       "\n",
       "    .dataframe thead th {\n",
       "        text-align: right;\n",
       "    }\n",
       "</style>\n",
       "<table border=\"1\" class=\"dataframe\">\n",
       "  <thead>\n",
       "    <tr style=\"text-align: right;\">\n",
       "      <th></th>\n",
       "      <th>gender</th>\n",
       "      <th>married</th>\n",
       "      <th>dependents</th>\n",
       "      <th>education</th>\n",
       "      <th>self_employed</th>\n",
       "      <th>applicantincome</th>\n",
       "      <th>loanamount</th>\n",
       "      <th>loan_amount_term</th>\n",
       "      <th>credit_history</th>\n",
       "      <th>property_area</th>\n",
       "      <th>loan_status</th>\n",
       "    </tr>\n",
       "  </thead>\n",
       "  <tbody>\n",
       "    <tr>\n",
       "      <th>1</th>\n",
       "      <td>1</td>\n",
       "      <td>1</td>\n",
       "      <td>1.0</td>\n",
       "      <td>1</td>\n",
       "      <td>0</td>\n",
       "      <td>4583</td>\n",
       "      <td>128.0</td>\n",
       "      <td>360.0</td>\n",
       "      <td>1.0</td>\n",
       "      <td>2</td>\n",
       "      <td>0</td>\n",
       "    </tr>\n",
       "    <tr>\n",
       "      <th>2</th>\n",
       "      <td>1</td>\n",
       "      <td>1</td>\n",
       "      <td>0.0</td>\n",
       "      <td>1</td>\n",
       "      <td>1</td>\n",
       "      <td>3000</td>\n",
       "      <td>66.0</td>\n",
       "      <td>360.0</td>\n",
       "      <td>1.0</td>\n",
       "      <td>0</td>\n",
       "      <td>1</td>\n",
       "    </tr>\n",
       "    <tr>\n",
       "      <th>3</th>\n",
       "      <td>1</td>\n",
       "      <td>1</td>\n",
       "      <td>0.0</td>\n",
       "      <td>0</td>\n",
       "      <td>0</td>\n",
       "      <td>2583</td>\n",
       "      <td>120.0</td>\n",
       "      <td>360.0</td>\n",
       "      <td>1.0</td>\n",
       "      <td>0</td>\n",
       "      <td>1</td>\n",
       "    </tr>\n",
       "    <tr>\n",
       "      <th>4</th>\n",
       "      <td>1</td>\n",
       "      <td>0</td>\n",
       "      <td>0.0</td>\n",
       "      <td>1</td>\n",
       "      <td>0</td>\n",
       "      <td>6000</td>\n",
       "      <td>141.0</td>\n",
       "      <td>360.0</td>\n",
       "      <td>1.0</td>\n",
       "      <td>0</td>\n",
       "      <td>1</td>\n",
       "    </tr>\n",
       "    <tr>\n",
       "      <th>5</th>\n",
       "      <td>1</td>\n",
       "      <td>1</td>\n",
       "      <td>2.0</td>\n",
       "      <td>1</td>\n",
       "      <td>1</td>\n",
       "      <td>5417</td>\n",
       "      <td>267.0</td>\n",
       "      <td>360.0</td>\n",
       "      <td>1.0</td>\n",
       "      <td>0</td>\n",
       "      <td>1</td>\n",
       "    </tr>\n",
       "  </tbody>\n",
       "</table>\n",
       "</div>"
      ],
      "text/plain": [
       "   gender  married  dependents  education  self_employed  applicantincome  \\\n",
       "1       1        1         1.0          1              0             4583   \n",
       "2       1        1         0.0          1              1             3000   \n",
       "3       1        1         0.0          0              0             2583   \n",
       "4       1        0         0.0          1              0             6000   \n",
       "5       1        1         2.0          1              1             5417   \n",
       "\n",
       "   loanamount  loan_amount_term  credit_history  property_area  loan_status  \n",
       "1       128.0             360.0             1.0              2            0  \n",
       "2        66.0             360.0             1.0              0            1  \n",
       "3       120.0             360.0             1.0              0            1  \n",
       "4       141.0             360.0             1.0              0            1  \n",
       "5       267.0             360.0             1.0              0            1  "
      ]
     },
     "execution_count": 81,
     "metadata": {},
     "output_type": "execute_result"
    }
   ],
   "source": [
    "df['gender']=np.where(df['gender']=='male',1,0).astype(int)\n",
    "df['married']=np.where(df['married']=='yes',1,0).astype(int)\n",
    "df['education']=np.where(df['education']=='graduate',1,0).astype(int)\n",
    "df['self_employed']=np.where(df['self_employed']=='yes',1,0).astype(int)\n",
    "df['property_area']=np.where(df['property_area']=='rural',2,np.where(df['property_area']=='semiurban',1,0)).astype(int)\n",
    "df['loan_status']=np.where(df['loan_status']=='y',1,0).astype(int)\n",
    "df.head()"
   ]
  },
  {
   "cell_type": "markdown",
   "id": "2debd30c",
   "metadata": {},
   "source": [
    "6. Separate the target and independent features and split the data into train and test. (2)"
   ]
  },
  {
   "cell_type": "code",
   "execution_count": 82,
   "id": "877b3086",
   "metadata": {},
   "outputs": [],
   "source": [
    "#Separate the Target and Independent features\n",
    "x=df.drop('loan_status', axis=1)\n",
    "y=df['loan_status']"
   ]
  },
  {
   "cell_type": "code",
   "execution_count": 83,
   "id": "cf7d9dc2",
   "metadata": {},
   "outputs": [
    {
     "name": "stdout",
     "output_type": "stream",
     "text": [
      "(384, 10) (96, 10)\n",
      "(384,) (96,)\n"
     ]
    }
   ],
   "source": [
    "#Split the data\n",
    "X_train, X_test, y_train, y_test = train_test_split(x,y,test_size=0.2)\n",
    "\n",
    "print(X_train.shape, X_test.shape)\n",
    "print(y_train.shape, y_test.shape)"
   ]
  },
  {
   "cell_type": "code",
   "execution_count": 84,
   "id": "952701ea",
   "metadata": {},
   "outputs": [
    {
     "name": "stdout",
     "output_type": "stream",
     "text": [
      "Covariance Matrix \n",
      "%s [[ 1.00208768e+00  3.50153982e-01  2.17964061e-01 -5.93684684e-02\n",
      "  -2.76640356e-03  3.27121324e-02  9.91817623e-02 -8.88894503e-02\n",
      "   2.24939372e-02  2.04718162e-04]\n",
      " [ 3.50153982e-01  1.00208768e+00  3.87173970e-01 -1.65546416e-03\n",
      "   1.57071172e-02  3.67940143e-02  1.83825336e-01 -1.07728022e-01\n",
      "   2.91554449e-02 -3.87332951e-02]\n",
      " [ 2.17964061e-01  3.87173970e-01  1.00208768e+00 -2.86673867e-02\n",
      "   4.58495154e-02  1.31413180e-01  1.73141119e-01 -9.65619975e-02\n",
      "  -2.67067966e-02 -1.19330143e-03]\n",
      " [-5.93684684e-02 -1.65546416e-03 -2.86673867e-02  1.00208768e+00\n",
      "   5.09522476e-03  1.31445958e-01  1.73140382e-01  1.02380919e-01\n",
      "   5.67742296e-02 -5.51197892e-02]\n",
      " [-2.76640356e-03  1.57071172e-02  4.58495154e-02  5.09522476e-03\n",
      "   1.00208768e+00  1.71141257e-01  1.20640194e-01 -3.49248721e-02\n",
      "  -2.36176440e-02  5.09028983e-02]\n",
      " [ 3.27121324e-02  3.67940143e-02  1.31413180e-01  1.31445958e-01\n",
      "   1.71141257e-01  1.00208768e+00  4.96343635e-01 -1.08607186e-02\n",
      "  -5.62695831e-02  5.32708862e-02]\n",
      " [ 9.91817623e-02  1.83825336e-01  1.73141119e-01  1.73140382e-01\n",
      "   1.20640194e-01  4.96343635e-01  1.00208768e+00  5.09729463e-02\n",
      "  -4.08580904e-02  1.09914151e-01]\n",
      " [-8.88894503e-02 -1.07728022e-01 -9.65619975e-02  1.02380919e-01\n",
      "  -3.49248721e-02 -1.08607186e-02  5.09729463e-02  1.00208768e+00\n",
      "   3.30059217e-02  5.87781468e-02]\n",
      " [ 2.24939372e-02  2.91554449e-02 -2.67067966e-02  5.67742296e-02\n",
      "  -2.36176440e-02 -5.62695831e-02 -4.08580904e-02  3.30059217e-02\n",
      "   1.00208768e+00  3.01882771e-03]\n",
      " [ 2.04718162e-04 -3.87332951e-02 -1.19330143e-03 -5.51197892e-02\n",
      "   5.09028983e-02  5.32708862e-02  1.09914151e-01  5.87781468e-02\n",
      "   3.01882771e-03  1.00208768e+00]]\n"
     ]
    }
   ],
   "source": [
    "sc = StandardScaler()\n",
    "X_std =  sc.fit_transform(x)          \n",
    "cov_matrix = np.cov(X_std.T)\n",
    "print('Covariance Matrix \\n%s', cov_matrix)"
   ]
  },
  {
   "cell_type": "markdown",
   "id": "f36f6484",
   "metadata": {},
   "source": [
    "7. Build any classification model to predict the loan status of the customer and save your model using pickle. (3)"
   ]
  },
  {
   "cell_type": "code",
   "execution_count": 85,
   "id": "22738079",
   "metadata": {},
   "outputs": [],
   "source": [
    "from sklearn.linear_model import LogisticRegression\n",
    "from sklearn.naive_bayes import GaussianNB\n",
    "from sklearn.neighbors import KNeighborsClassifier\n",
    "from sklearn.tree import DecisionTreeClassifier\n",
    "from sklearn.ensemble import StackingClassifier\n",
    "\n",
    "\n",
    "lr = LogisticRegression()\n",
    "nb = GaussianNB()\n",
    "knn = KNeighborsClassifier()\n",
    "dt = DecisionTreeClassifier()\n",
    "rf = RandomForestClassifier()\n",
    "adb = AdaBoostClassifier()\n",
    "gb = GradientBoostingClassifier()\n",
    "\n",
    "estimators = [('rf',rf),('knn',knn),('gb',gb),('adb',adb)]\n",
    "sc = StackingClassifier(estimators=estimators, final_estimator=rf)"
   ]
  },
  {
   "cell_type": "code",
   "execution_count": 86,
   "id": "9995946b",
   "metadata": {},
   "outputs": [],
   "source": [
    "def fit_n_print(model, X_train, X_test, y_train, y_test):\n",
    "    model.fit(X_train, y_train)\n",
    "    pred = model.predict(X_test)\n",
    "    accuracy = accuracy_score(y_test, pred)\n",
    "    return accuracy"
   ]
  },
  {
   "cell_type": "code",
   "execution_count": 87,
   "id": "fbdf7922",
   "metadata": {},
   "outputs": [],
   "source": [
    "result = pd.DataFrame(columns = ['Accuracy'])\n",
    "\n",
    "for model, model_name in zip([lr, nb, knn, dt, rf, adb, gb, sc],\n",
    "                            ['Logistic Regression','Naive Bayes', 'KNN', 'Decision Tree', 'Random Forest',\n",
    "                            'Ada Boost', 'Gradient Boost', 'Stacking']):\n",
    "    result.loc[model_name]=fit_n_print(model, X_train, X_test, y_train, y_test)"
   ]
  },
  {
   "cell_type": "code",
   "execution_count": 88,
   "id": "37ae848c",
   "metadata": {},
   "outputs": [
    {
     "data": {
      "text/html": [
       "<div>\n",
       "<style scoped>\n",
       "    .dataframe tbody tr th:only-of-type {\n",
       "        vertical-align: middle;\n",
       "    }\n",
       "\n",
       "    .dataframe tbody tr th {\n",
       "        vertical-align: top;\n",
       "    }\n",
       "\n",
       "    .dataframe thead th {\n",
       "        text-align: right;\n",
       "    }\n",
       "</style>\n",
       "<table border=\"1\" class=\"dataframe\">\n",
       "  <thead>\n",
       "    <tr style=\"text-align: right;\">\n",
       "      <th></th>\n",
       "      <th>Accuracy</th>\n",
       "    </tr>\n",
       "  </thead>\n",
       "  <tbody>\n",
       "    <tr>\n",
       "      <th>Logistic Regression</th>\n",
       "      <td>0.760417</td>\n",
       "    </tr>\n",
       "    <tr>\n",
       "      <th>Naive Bayes</th>\n",
       "      <td>0.760417</td>\n",
       "    </tr>\n",
       "    <tr>\n",
       "      <th>KNN</th>\n",
       "      <td>0.645833</td>\n",
       "    </tr>\n",
       "    <tr>\n",
       "      <th>Decision Tree</th>\n",
       "      <td>0.729167</td>\n",
       "    </tr>\n",
       "    <tr>\n",
       "      <th>Random Forest</th>\n",
       "      <td>0.770833</td>\n",
       "    </tr>\n",
       "    <tr>\n",
       "      <th>Ada Boost</th>\n",
       "      <td>0.760417</td>\n",
       "    </tr>\n",
       "    <tr>\n",
       "      <th>Gradient Boost</th>\n",
       "      <td>0.760417</td>\n",
       "    </tr>\n",
       "    <tr>\n",
       "      <th>Stacking</th>\n",
       "      <td>0.770833</td>\n",
       "    </tr>\n",
       "  </tbody>\n",
       "</table>\n",
       "</div>"
      ],
      "text/plain": [
       "                     Accuracy\n",
       "Logistic Regression  0.760417\n",
       "Naive Bayes          0.760417\n",
       "KNN                  0.645833\n",
       "Decision Tree        0.729167\n",
       "Random Forest        0.770833\n",
       "Ada Boost            0.760417\n",
       "Gradient Boost       0.760417\n",
       "Stacking             0.770833"
      ]
     },
     "execution_count": 88,
     "metadata": {},
     "output_type": "execute_result"
    }
   ],
   "source": [
    "result"
   ]
  },
  {
   "cell_type": "markdown",
   "id": "0e019b53",
   "metadata": {},
   "source": [
    "Random Forest and Gradient Boost are giving 82.29% Accuracy"
   ]
  },
  {
   "cell_type": "code",
   "execution_count": 89,
   "id": "47cab678",
   "metadata": {},
   "outputs": [],
   "source": [
    "#from sklearn.ensemble import GradientBoostingClassifier\n",
    "\n",
    "#gradient_booster = GradientBoostingClassifier(learning_rate=0.1)\n",
    "\n",
    "#gradient_booster.fit(X_train,y_train)\n",
    "\n",
    "#print(classification_report(y_test,gradient_booster.predict(X_test)))"
   ]
  },
  {
   "cell_type": "code",
   "execution_count": 90,
   "id": "00d87444",
   "metadata": {},
   "outputs": [],
   "source": [
    "from sklearn.ensemble import RandomForestRegressor\n",
    "\n",
    "# Instantiate model with 1000 decision trees\n",
    "rf = RandomForestRegressor(n_estimators = 1000, random_state = 42)\n",
    "# Train the model on training data\n",
    "rf.fit(X_train, y_train);"
   ]
  },
  {
   "cell_type": "code",
   "execution_count": 91,
   "id": "30793871",
   "metadata": {},
   "outputs": [
    {
     "name": "stdout",
     "output_type": "stream",
     "text": [
      "Mean Absolute Error: 0.31\n"
     ]
    }
   ],
   "source": [
    "# Use the forest's predict method on the test data\n",
    "predictions = rf.predict(X_test)\n",
    "# Calculate the absolute errors\n",
    "errors = abs(predictions - y_test)\n",
    "# Print out the mean absolute error (mae)\n",
    "print('Mean Absolute Error:', round(np.mean(errors), 2))"
   ]
  },
  {
   "cell_type": "code",
   "execution_count": 92,
   "id": "2e315fa0",
   "metadata": {},
   "outputs": [],
   "source": [
    "import pickle\n",
    "# Saving model to disk\n",
    "pickle.dump(rf, open('model.pkl','wb'))\n"
   ]
  }
 ],
 "metadata": {
  "kernelspec": {
   "display_name": "Python 3 (ipykernel)",
   "language": "python",
   "name": "python3"
  },
  "language_info": {
   "codemirror_mode": {
    "name": "ipython",
    "version": 3
   },
   "file_extension": ".py",
   "mimetype": "text/x-python",
   "name": "python",
   "nbconvert_exporter": "python",
   "pygments_lexer": "ipython3",
   "version": "3.9.13"
  }
 },
 "nbformat": 4,
 "nbformat_minor": 5
}
